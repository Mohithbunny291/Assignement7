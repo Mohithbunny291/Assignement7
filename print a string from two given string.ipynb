{
 "cells": [
  {
   "cell_type": "code",
   "execution_count": null,
   "metadata": {},
   "outputs": [],
   "source": [
    "def char(a,b):\n",
    "    \n",
    "               new_a= b[:2] + a[2:]\n",
    "        \n",
    "               new_b= a[:2] + b[2:]\n",
    "            \n",
    "               return new_a + ' ' + new_b\n",
    "            \n",
    "print(char('abc', 'xyz'))\n"
   ]
  }
 ],
 "metadata": {
  "kernelspec": {
   "display_name": "Python 3",
   "language": "python",
   "name": "python3"
  },
  "language_info": {
   "codemirror_mode": {
    "name": "ipython",
    "version": 3
   },
   "file_extension": ".py",
   "mimetype": "text/x-python",
   "name": "python",
   "nbconvert_exporter": "python",
   "pygments_lexer": "ipython3",
   "version": "3.8.3"
  }
 },
 "nbformat": 4,
 "nbformat_minor": 4
}
